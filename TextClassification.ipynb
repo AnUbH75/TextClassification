{
 "cells": [
  {
   "cell_type": "code",
   "execution_count": 7,
   "id": "3d7ed263",
   "metadata": {},
   "outputs": [],
   "source": [
    "import os\n",
    "current_dir = os.getcwd()\n",
    "folder_path = current_dir + \"\\\\20_newsgroups\"\n",
    "newsgroups = os.listdir(folder_path)"
   ]
  },
  {
   "cell_type": "code",
   "execution_count": 8,
   "id": "703bdcf1",
   "metadata": {},
   "outputs": [],
   "source": [
    "import nltk\n",
    "from nltk.corpus import stopwords\n",
    "stop_words = set(stopwords.words('english'))"
   ]
  },
  {
   "cell_type": "code",
   "execution_count": 9,
   "id": "ca26355c",
   "metadata": {},
   "outputs": [],
   "source": [
    "import re\n",
    "vocab = {}\n",
    "for groups in newsgroups:\n",
    "    group_path = folder_path + \"\\\\\" + groups\n",
    "    articles = os.listdir(group_path)\n",
    "    for article in articles:\n",
    "        article_path = group_path + \"\\\\\" + article\n",
    "        with open(article_path) as file:\n",
    "            content = file.read()\n",
    "            clean_content = re.sub(r'[^A-Za-z\\s]', ' ', content)\n",
    "            words = clean_content.split()\n",
    "            for i in words:\n",
    "                i = i.lower()\n",
    "                if i in stop_words or len(i) <= 2:\n",
    "                    continue\n",
    "                else:\n",
    "                    if i in vocab:\n",
    "                        vocab[i]+=1\n",
    "                    else:\n",
    "                        vocab[i]=1"
   ]
  },
  {
   "cell_type": "code",
   "execution_count": 10,
   "id": "e9155233",
   "metadata": {},
   "outputs": [],
   "source": [
    "sorted_vocab = dict(sorted(vocab.items(), key=lambda item: item[1], reverse=True))"
   ]
  },
  {
   "cell_type": "code",
   "execution_count": 11,
   "id": "3b53c0a8",
   "metadata": {},
   "outputs": [],
   "source": [
    "features = {}\n",
    "k = 0\n",
    "for i in sorted_vocab:\n",
    "    features[i] = k\n",
    "    k+=1\n",
    "    if k == 1000:\n",
    "        break"
   ]
  },
  {
   "cell_type": "code",
   "execution_count": 12,
   "id": "ced3ef5f",
   "metadata": {},
   "outputs": [],
   "source": [
    "X = []\n",
    "Y = []\n",
    "for groups in newsgroups:\n",
    "    group_path = folder_path + \"\\\\\" + groups\n",
    "    articles = os.listdir(group_path)\n",
    "    for article in articles:\n",
    "        article_path = group_path + \"\\\\\" + article\n",
    "        d = np.zeros(1000)\n",
    "        with open(article_path) as file:\n",
    "            content = file.read()\n",
    "            clean_content = re.sub(r'[^A-Za-z\\s]', ' ', content)\n",
    "            words = clean_content.split()\n",
    "            for i in words:\n",
    "                if i in features:\n",
    "                    d[features[i]]+=1\n",
    "        X.append(d)\n",
    "        Y.append(groups)"
   ]
  },
  {
   "cell_type": "code",
   "execution_count": 19,
   "id": "246afbd4",
   "metadata": {},
   "outputs": [
    {
     "data": {
      "text/html": [
       "<style>#sk-container-id-1 {color: black;}#sk-container-id-1 pre{padding: 0;}#sk-container-id-1 div.sk-toggleable {background-color: white;}#sk-container-id-1 label.sk-toggleable__label {cursor: pointer;display: block;width: 100%;margin-bottom: 0;padding: 0.3em;box-sizing: border-box;text-align: center;}#sk-container-id-1 label.sk-toggleable__label-arrow:before {content: \"▸\";float: left;margin-right: 0.25em;color: #696969;}#sk-container-id-1 label.sk-toggleable__label-arrow:hover:before {color: black;}#sk-container-id-1 div.sk-estimator:hover label.sk-toggleable__label-arrow:before {color: black;}#sk-container-id-1 div.sk-toggleable__content {max-height: 0;max-width: 0;overflow: hidden;text-align: left;background-color: #f0f8ff;}#sk-container-id-1 div.sk-toggleable__content pre {margin: 0.2em;color: black;border-radius: 0.25em;background-color: #f0f8ff;}#sk-container-id-1 input.sk-toggleable__control:checked~div.sk-toggleable__content {max-height: 200px;max-width: 100%;overflow: auto;}#sk-container-id-1 input.sk-toggleable__control:checked~label.sk-toggleable__label-arrow:before {content: \"▾\";}#sk-container-id-1 div.sk-estimator input.sk-toggleable__control:checked~label.sk-toggleable__label {background-color: #d4ebff;}#sk-container-id-1 div.sk-label input.sk-toggleable__control:checked~label.sk-toggleable__label {background-color: #d4ebff;}#sk-container-id-1 input.sk-hidden--visually {border: 0;clip: rect(1px 1px 1px 1px);clip: rect(1px, 1px, 1px, 1px);height: 1px;margin: -1px;overflow: hidden;padding: 0;position: absolute;width: 1px;}#sk-container-id-1 div.sk-estimator {font-family: monospace;background-color: #f0f8ff;border: 1px dotted black;border-radius: 0.25em;box-sizing: border-box;margin-bottom: 0.5em;}#sk-container-id-1 div.sk-estimator:hover {background-color: #d4ebff;}#sk-container-id-1 div.sk-parallel-item::after {content: \"\";width: 100%;border-bottom: 1px solid gray;flex-grow: 1;}#sk-container-id-1 div.sk-label:hover label.sk-toggleable__label {background-color: #d4ebff;}#sk-container-id-1 div.sk-serial::before {content: \"\";position: absolute;border-left: 1px solid gray;box-sizing: border-box;top: 0;bottom: 0;left: 50%;z-index: 0;}#sk-container-id-1 div.sk-serial {display: flex;flex-direction: column;align-items: center;background-color: white;padding-right: 0.2em;padding-left: 0.2em;position: relative;}#sk-container-id-1 div.sk-item {position: relative;z-index: 1;}#sk-container-id-1 div.sk-parallel {display: flex;align-items: stretch;justify-content: center;background-color: white;position: relative;}#sk-container-id-1 div.sk-item::before, #sk-container-id-1 div.sk-parallel-item::before {content: \"\";position: absolute;border-left: 1px solid gray;box-sizing: border-box;top: 0;bottom: 0;left: 50%;z-index: -1;}#sk-container-id-1 div.sk-parallel-item {display: flex;flex-direction: column;z-index: 1;position: relative;background-color: white;}#sk-container-id-1 div.sk-parallel-item:first-child::after {align-self: flex-end;width: 50%;}#sk-container-id-1 div.sk-parallel-item:last-child::after {align-self: flex-start;width: 50%;}#sk-container-id-1 div.sk-parallel-item:only-child::after {width: 0;}#sk-container-id-1 div.sk-dashed-wrapped {border: 1px dashed gray;margin: 0 0.4em 0.5em 0.4em;box-sizing: border-box;padding-bottom: 0.4em;background-color: white;}#sk-container-id-1 div.sk-label label {font-family: monospace;font-weight: bold;display: inline-block;line-height: 1.2em;}#sk-container-id-1 div.sk-label-container {text-align: center;}#sk-container-id-1 div.sk-container {/* jupyter's `normalize.less` sets `[hidden] { display: none; }` but bootstrap.min.css set `[hidden] { display: none !important; }` so we also need the `!important` here to be able to override the default hidden behavior on the sphinx rendered scikit-learn.org. See: https://github.com/scikit-learn/scikit-learn/issues/21755 */display: inline-block !important;position: relative;}#sk-container-id-1 div.sk-text-repr-fallback {display: none;}</style><div id=\"sk-container-id-1\" class=\"sk-top-container\"><div class=\"sk-text-repr-fallback\"><pre>MultinomialNB()</pre><b>In a Jupyter environment, please rerun this cell to show the HTML representation or trust the notebook. <br />On GitHub, the HTML representation is unable to render, please try loading this page with nbviewer.org.</b></div><div class=\"sk-container\" hidden><div class=\"sk-item\"><div class=\"sk-estimator sk-toggleable\"><input class=\"sk-toggleable__control sk-hidden--visually\" id=\"sk-estimator-id-1\" type=\"checkbox\" checked><label for=\"sk-estimator-id-1\" class=\"sk-toggleable__label sk-toggleable__label-arrow\">MultinomialNB</label><div class=\"sk-toggleable__content\"><pre>MultinomialNB()</pre></div></div></div></div></div>"
      ],
      "text/plain": [
       "MultinomialNB()"
      ]
     },
     "execution_count": 19,
     "metadata": {},
     "output_type": "execute_result"
    }
   ],
   "source": [
    "from sklearn.model_selection import train_test_split\n",
    "from sklearn.naive_bayes import MultinomialNB \n",
    "X_train, X_test, y_train, y_test = train_test_split(X, Y, test_size=0.3, random_state=42)\n",
    "model = MultinomialNB()\n",
    "model.fit(X_train, y_train)"
   ]
  },
  {
   "cell_type": "code",
   "execution_count": 20,
   "id": "d75b9a8f",
   "metadata": {},
   "outputs": [
    {
     "name": "stdout",
     "output_type": "stream",
     "text": [
      "0.8511666666666666 0.8797599485604058\n"
     ]
    }
   ],
   "source": [
    "print(model.score(X_test,y_test), model.score(X_train,y_train))"
   ]
  },
  {
   "cell_type": "code",
   "execution_count": 50,
   "id": "9d36c9a5",
   "metadata": {},
   "outputs": [],
   "source": [
    "def fit(x_train, y_train):\n",
    "    result = {}\n",
    "    class_values = set(y_train)\n",
    "    for current_class in class_values:\n",
    "        result[current_class] = {}\n",
    "        result['total_data'] = len(y_train)\n",
    "        current_class_rows = y_train == current_class\n",
    "        x_train_current = x_train[current_class_rows]\n",
    "        y_train_current = y_train[current_class_rows]\n",
    "        num_features = x_train.shape[1]\n",
    "        result[current_class]['total_count'] = len(x_train_current)\n",
    "        for i in range(1, num_features+1):\n",
    "            result[current_class][i] = {}\n",
    "            all_possible_values = set(x_train_current[:,i-1])\n",
    "            for feature in all_possible_values:\n",
    "                result[current_class][i][feature] = (x_train_current[:,i-1] == feature).sum()\n",
    "    return result"
   ]
  },
  {
   "cell_type": "code",
   "execution_count": 61,
   "id": "7ab915f1",
   "metadata": {},
   "outputs": [],
   "source": [
    "def probability(dictionary, x, current_class):\n",
    "    output = np.log(dictionary[current_class]['total_count']) - np.log(dictionary['total_data'])\n",
    "    num_features = len(dictionary[current_class].keys()) - 1\n",
    "    for i in range(1, num_features+1):\n",
    "        X = x[i-1]\n",
    "        count_current_class_with_value_X = dictionary[current_class][i].get(X,0)\n",
    "        count_current_class = dictionary[current_class]['total_count'] + len(dictionary[current_class][i].keys())\n",
    "        prob = np.log(count_current_class_with_value_X + 1) - np.log(count_current_class) \n",
    "        output = output + prob\n",
    "    return output"
   ]
  },
  {
   "cell_type": "code",
   "execution_count": 66,
   "id": "2bf6d8e6",
   "metadata": {},
   "outputs": [],
   "source": [
    "def predictSinglePoint(dictionary, x):\n",
    "    classes = dictionary.keys()\n",
    "    best_p = -1000\n",
    "    best_class = -1\n",
    "    first_run = True\n",
    "    for current_class in classes:\n",
    "        if(current_class == 'total_data'):\n",
    "            continue\n",
    "        p_current_class = probability(dictionary, x, current_class)\n",
    "        if (first_run or p_current_class > best_p):\n",
    "            best_p = p_current_class\n",
    "            best_class = current_class\n",
    "        first_run = False   \n",
    "    return best_class"
   ]
  },
  {
   "cell_type": "code",
   "execution_count": 53,
   "id": "e0e9ec42",
   "metadata": {},
   "outputs": [],
   "source": [
    "def predict(dictionary, x_test):\n",
    "    y_pred = []\n",
    "    for x in x_test:\n",
    "        x_class = predictSinglePoint(dictionary, x)\n",
    "        y_pred.append(x_class)\n",
    "        \n",
    "    return y_pred"
   ]
  },
  {
   "cell_type": "code",
   "execution_count": 54,
   "id": "fc514bc1",
   "metadata": {},
   "outputs": [],
   "source": [
    "def score(y_pred, y_test):\n",
    "    return np.mean(y_pred == y_test)"
   ]
  },
  {
   "cell_type": "code",
   "execution_count": 58,
   "id": "e561eba4",
   "metadata": {},
   "outputs": [],
   "source": [
    "X = np.array(X)\n",
    "Y = np.array(Y)\n",
    "X_train, X_test, y_train, y_test = train_test_split(X, Y, test_size=0.05, random_state=42)"
   ]
  },
  {
   "cell_type": "code",
   "execution_count": 59,
   "id": "3432a3f1",
   "metadata": {},
   "outputs": [],
   "source": [
    "dict_fit = fit(X_train, y_train)"
   ]
  },
  {
   "cell_type": "code",
   "execution_count": 67,
   "id": "735b5061",
   "metadata": {},
   "outputs": [],
   "source": [
    "y_pred = predict(dict_fit, X_test)"
   ]
  },
  {
   "cell_type": "code",
   "execution_count": 68,
   "id": "ba979299",
   "metadata": {},
   "outputs": [
    {
     "name": "stdout",
     "output_type": "stream",
     "text": [
      "0.93\n"
     ]
    }
   ],
   "source": [
    "print(score(y_pred,y_test))"
   ]
  }
 ],
 "metadata": {
  "kernelspec": {
   "display_name": "Python 3 (ipykernel)",
   "language": "python",
   "name": "python3"
  },
  "language_info": {
   "codemirror_mode": {
    "name": "ipython",
    "version": 3
   },
   "file_extension": ".py",
   "mimetype": "text/x-python",
   "name": "python",
   "nbconvert_exporter": "python",
   "pygments_lexer": "ipython3",
   "version": "3.11.4"
  }
 },
 "nbformat": 4,
 "nbformat_minor": 5
}
